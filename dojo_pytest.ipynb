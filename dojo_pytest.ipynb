{
 "cells": [
  {
   "cell_type": "code",
   "execution_count": null,
   "id": "01ab0127",
   "metadata": {
    "scrolled": false,
    "slideshow": {
     "slide_type": "skip"
    }
   },
   "outputs": [],
   "source": [
    "%cd ~/dojo-pytest/"
   ]
  },
  {
   "cell_type": "markdown",
   "id": "b8fa19ec",
   "metadata": {
    "slideshow": {
     "slide_type": "slide"
    }
   },
   "source": [
    "# Dojo Pytest (Ou comment faire que des tests qui roxxent du poney)"
   ]
  },
  {
   "cell_type": "markdown",
   "id": "c5127d68",
   "metadata": {
    "slideshow": {
     "slide_type": "notes"
    }
   },
   "source": [
    "Objectif : faire découvrir de manière peut-être un petit peu plus avancée le framework de test que nous utilisons.\n",
    "\n",
    "Sujet dense : ce ne sera pas exhaustif."
   ]
  },
  {
   "cell_type": "markdown",
   "id": "ba44767a",
   "metadata": {
    "slideshow": {
     "slide_type": "fragment"
    }
   },
   "source": [
    "(Et RISE, c'est bien aussi)"
   ]
  },
  {
   "cell_type": "markdown",
   "id": "1522ed7b",
   "metadata": {
    "slideshow": {
     "slide_type": "notes"
    }
   },
   "source": [
    "RISE: Outil utilisé pour cette présentation. Basé sur Reveal.JS\n",
    "    \n",
    "https://rise.readthedocs.io/en/latest/"
   ]
  },
  {
   "cell_type": "markdown",
   "id": "4b393fb8",
   "metadata": {
    "slideshow": {
     "slide_type": "slide"
    }
   },
   "source": [
    "# Avant de commencer :\n",
    "\n",
    "Versions utilisées"
   ]
  },
  {
   "cell_type": "code",
   "execution_count": null,
   "id": "83ec1cd0",
   "metadata": {
    "scrolled": false
   },
   "outputs": [],
   "source": [
    "%%bash\n",
    "python --version\n",
    "pytest --version"
   ]
  },
  {
   "cell_type": "markdown",
   "id": "8ecf8ba9",
   "metadata": {
    "slideshow": {
     "slide_type": "slide"
    }
   },
   "source": [
    "<a id=\"bases\"></a>\n",
    "# Bases"
   ]
  },
  {
   "cell_type": "markdown",
   "id": "b6100a8d",
   "metadata": {
    "slideshow": {
     "slide_type": "subslide"
    }
   },
   "source": [
    "# Exemple simple de test :"
   ]
  },
  {
   "cell_type": "code",
   "execution_count": null,
   "id": "d9b3e138",
   "metadata": {
    "scrolled": false,
    "slideshow": {
     "slide_type": "-"
    }
   },
   "outputs": [],
   "source": [
    "%%writefile tests/bases/test_simple_example.py\n",
    "#!/usr/bin/env python3\n",
    "\n",
    "def test_foo():\n",
    "    assert True"
   ]
  },
  {
   "cell_type": "markdown",
   "id": "740e51b6",
   "metadata": {
    "slideshow": {
     "slide_type": "notes"
    }
   },
   "source": [
    "`%%writefile` -> commande magique (feature de IPython utilisable dans les notebooks Jupyter).\n",
    "\n",
    "Permet de faire autre-chose que de l'exécution de python par défaut.\n",
    "Autres exemples :\n",
    "- `%cd`\n",
    "- `%%script`\n",
    ".\n",
    ".\n",
    ".\n",
    "\n",
    "https://ipython.readthedocs.io/en/stable/interactive/magics.html\n",
    "\n",
    "\n",
    "Par défaut :\n",
    "- Infos utiles par défaut dans l'affichage\n",
    "- récapitulatif des tests + leurs résultats.\n",
    "\n",
    "\n",
    "`%%bash` -> Autre commande magique IPython."
   ]
  },
  {
   "cell_type": "code",
   "execution_count": null,
   "id": "4c3e6dcf",
   "metadata": {
    "scrolled": false,
    "slideshow": {
     "slide_type": "fragment"
    }
   },
   "outputs": [],
   "source": [
    "%%bash\n",
    "pytest tests/bases/test_simple_example.py"
   ]
  },
  {
   "cell_type": "markdown",
   "id": "262ffbe5",
   "metadata": {
    "slideshow": {
     "slide_type": "subslide"
    }
   },
   "source": [
    "# Résultats possibles\n",
    "Il y en a principalement 3 :\n",
    "- Success.\n",
    "- Failure.\n",
    "- Error."
   ]
  },
  {
   "cell_type": "markdown",
   "id": "9f486aa2",
   "metadata": {
    "slideshow": {
     "slide_type": "notes"
    }
   },
   "source": [
    "Autres retours possibles :\n",
    "- `xfail`\n",
    "- `xpass`\n",
    "- `skip`\n",
    "\n",
    "Relativement anecdotiques."
   ]
  },
  {
   "cell_type": "markdown",
   "id": "ef1b75da",
   "metadata": {
    "slideshow": {
     "slide_type": "subslide"
    }
   },
   "source": [
    "#### Dans le cas d'un succès (Success) :\n",
    "Pas d'exception non gérée, tout s'est bien passé."
   ]
  },
  {
   "cell_type": "code",
   "execution_count": null,
   "id": "40bdd5e3",
   "metadata": {
    "scrolled": false
   },
   "outputs": [],
   "source": [
    "%%writefile tests/bases/test_results_example_success.py\n",
    "#!/usr/bin/env python3\n",
    "\n",
    "def test_success():\n",
    "    pass"
   ]
  },
  {
   "cell_type": "code",
   "execution_count": null,
   "id": "42f656b2",
   "metadata": {
    "scrolled": false,
    "slideshow": {
     "slide_type": "fragment"
    }
   },
   "outputs": [],
   "source": [
    "%%script bash --no-raise-error\n",
    "pytest tests/bases/test_results_example_success.py"
   ]
  },
  {
   "cell_type": "markdown",
   "id": "3054b5ae",
   "metadata": {
    "slideshow": {
     "slide_type": "notes"
    }
   },
   "source": [
    "À partir de maintenant, plus la magic command `%%bash`.\n",
    "(Retourne une erreur si la commande a un statut de retour autre que 0).\n",
    "\n",
    "`%%script bash --no-raise-error` permet d'éviter ce problème."
   ]
  },
  {
   "cell_type": "markdown",
   "id": "3e4fb929",
   "metadata": {
    "slideshow": {
     "slide_type": "subslide"
    }
   },
   "source": [
    "#### Dans le cas d'un échec (Failure) :\n",
    "Une exception (de n'importe quel type) a été levée sans être gérée: le test n'est pas passé."
   ]
  },
  {
   "cell_type": "markdown",
   "id": "fd08d3c5",
   "metadata": {
    "slideshow": {
     "slide_type": "notes"
    }
   },
   "source": [
    "Différence entre failure et error : source https://stackoverflow.com/a/32103555/3156085"
   ]
  },
  {
   "cell_type": "code",
   "execution_count": null,
   "id": "399b0d30",
   "metadata": {
    "scrolled": false
   },
   "outputs": [],
   "source": [
    "%%writefile tests/bases/test_results_example_failure.py\n",
    "#!/usr/bin/env python3\n",
    "\n",
    "def test_failure():\n",
    "    assert False, \"This test can only fail.\"\n",
    "\n",
    "def test_failure_alt():\n",
    "    raise AssertionError(\"This test can only fail.\")\n",
    "     \n",
    "def test_failure_other_exc():\n",
    "    raise ValueError(\"A test can fail with something else than an AssertionError.\")\n",
    "    \n",
    "def test_failure_with_division_error():\n",
    "    a = 1/0"
   ]
  },
  {
   "cell_type": "code",
   "execution_count": null,
   "id": "587a6e68",
   "metadata": {
    "scrolled": false,
    "slideshow": {
     "slide_type": "fragment"
    }
   },
   "outputs": [],
   "source": [
    "%%script bash --no-raise-error\n",
    "pytest -v tests/bases/test_results_example_failure.py"
   ]
  },
  {
   "cell_type": "markdown",
   "id": "98bb5cf4",
   "metadata": {
    "slideshow": {
     "slide_type": "subslide"
    }
   },
   "source": [
    "#### Dans le cas d'une erreur (Error)\n",
    "Un problème est survenu _avant_ que le test n'ait été lancé (dans le setup)."
   ]
  },
  {
   "cell_type": "code",
   "execution_count": null,
   "id": "803be0ca",
   "metadata": {
    "scrolled": false
   },
   "outputs": [],
   "source": [
    "%%writefile tests/bases/test_results_example_error.py\n",
    "#!/usr/bin/env python3\n",
    "import pytest\n",
    "\n",
    "@pytest.fixture\n",
    "def foo():\n",
    "    return 1/0\n",
    "\n",
    "def test_error(foo):\n",
    "    \"\"\"This will issue an error because of ZeroDivisionError in fixture\"\"\"\n",
    "    pass"
   ]
  },
  {
   "cell_type": "code",
   "execution_count": null,
   "id": "d5ccfd1a",
   "metadata": {
    "scrolled": false,
    "slideshow": {
     "slide_type": "fragment"
    }
   },
   "outputs": [],
   "source": [
    "%%script bash --no-raise-error\n",
    "pytest tests/bases/test_results_example_error.py"
   ]
  },
  {
   "cell_type": "markdown",
   "id": "3f1da538",
   "metadata": {
    "slideshow": {
     "slide_type": "subslide"
    }
   },
   "source": [
    "# Et si on attend la levée d'une exception ?\n",
    "\n",
    "On peut dans ce cas utiliser le manager de contexte [`pytest.raises`](https://docs.pytest.org/en/4.6.x/reference.html#pytest-raises) prévu spécialement pour ce genre de cas.\n",
    "\n",
    "Il prend en paramètre le type d'exception attendue."
   ]
  },
  {
   "cell_type": "code",
   "execution_count": null,
   "id": "23319239",
   "metadata": {
    "scrolled": false
   },
   "outputs": [],
   "source": [
    "%%writefile tests/bases/test_raises.py\n",
    "#!/usr/bin/env python3\n",
    "import pytest\n",
    "\n",
    "def f_to_test():\n",
    "    d = {\"foo\": 42}\n",
    "    a = d[\"bar\"]  # This will raise a KeyError\n",
    "    \n",
    "def test_f_to_test():\n",
    "    with pytest.raises(KeyError):\n",
    "        f_to_test()\n",
    "\n",
    "def test_f_to_test_bis():\n",
    "    \"\"\"This test should fail.\"\"\"\n",
    "    with pytest.raises(ValueError):\n",
    "        f_to_test()\n",
    "        \n",
    "def test_without_exception():\n",
    "    \"\"\"This test should also fail.\"\"\"\n",
    "    with pytest.raises(ValueError):\n",
    "        pass"
   ]
  },
  {
   "cell_type": "code",
   "execution_count": null,
   "id": "06a3a029",
   "metadata": {
    "scrolled": false,
    "slideshow": {
     "slide_type": "fragment"
    }
   },
   "outputs": [],
   "source": [
    "%%script bash --no-raise-error\n",
    "pytest -v tests/bases/test_raises.py"
   ]
  },
  {
   "cell_type": "markdown",
   "id": "c3b4bc8c",
   "metadata": {
    "slideshow": {
     "slide_type": "subslide"
    }
   },
   "source": [
    "# Conventions de nommage\n",
    "\n",
    "Pour qu'un test soit collecté par le comportement par défaut de pytest :\n",
    "- Il doit se trouver dans le package courant ou un de ses sous-packages.\n",
    "- Le module dans lequel il se trouve doit avoir son nom préfixé par \"test_\" (ou suffixé par \"_test.py\")\n",
    "- Le nom du test doit être préfixé par \"test\".\n",
    "- S'il se trouve dans une classe de test (sous forme de méthode), la classe doit avoir un nom préfixé par \"Test\" et la classe en question ne doit pas avoir de méthode `__init__()`.\n"
   ]
  },
  {
   "cell_type": "markdown",
   "id": "ef6d9a04",
   "metadata": {
    "slideshow": {
     "slide_type": "notes"
    }
   },
   "source": [
    "Source: https://docs.pytest.org/en/7.1.x/explanation/goodpractices.html\n",
    "\n",
    "Tout ça reste aussi des comportements qui peuvent être modifiés par configuration."
   ]
  },
  {
   "cell_type": "markdown",
   "id": "649c61ac",
   "metadata": {
    "slideshow": {
     "slide_type": "subslide"
    }
   },
   "source": [
    "# Exemple :"
   ]
  },
  {
   "cell_type": "markdown",
   "id": "5e9e75e1",
   "metadata": {
    "slideshow": {
     "slide_type": "notes"
    }
   },
   "source": [
    "Le paramètre `--collect-only` sert à se contenter de collecter les tests. C'est-à-dire lister ceux qui sont disponibles.\n",
    "\n",
    "`pygmentize` est un équivalent de `cat` mais avec la coloration syntaxique de Python.\n",
    "https://pygments.org/docs/quickstart/\n",
    "\n",
    "Voici l'exemple d'une utilisation de pytest où on se contente de passer un dossier plutôt qu'un fichier spécifique. Il s'occupera alors de collecter tout seul les tests disponibles dans l'arborescence.\n",
    "\n",
    "Il y a aussi la possibilité de préciser un test particulier au sein d'un fichier de test à l'aide de l'opérateur `::`."
   ]
  },
  {
   "cell_type": "code",
   "execution_count": null,
   "id": "aa84d4b2",
   "metadata": {
    "scrolled": false
   },
   "outputs": [],
   "source": [
    "%%bash\n",
    "set -x\n",
    "tree -I __pycache__ tests/bases/naming_conventions/\n",
    "pygmentize tests/bases/naming_conventions/test_collected_tests.py"
   ]
  },
  {
   "cell_type": "code",
   "execution_count": null,
   "id": "7dbfb813",
   "metadata": {
    "scrolled": false,
    "slideshow": {
     "slide_type": "fragment"
    }
   },
   "outputs": [],
   "source": [
    "%%script bash --no-raise-error\n",
    "pytest --collect-only tests/bases/naming_conventions"
   ]
  },
  {
   "cell_type": "markdown",
   "id": "66c1be98",
   "metadata": {
    "slideshow": {
     "slide_type": "skip"
    }
   },
   "source": [
    "# Exemple plus complet\n",
    "\n",
    "Voici un exemple plus complet qui met en évidence les différences avec et sans `__init__.py`. (named packages vs. package IIRC)"
   ]
  },
  {
   "cell_type": "code",
   "execution_count": null,
   "id": "eb5f8f08",
   "metadata": {
    "scrolled": false,
    "slideshow": {
     "slide_type": "skip"
    }
   },
   "outputs": [],
   "source": [
    "%%bash\n",
    "set -x\n",
    "tree -I __pycache__ tests/bases/naming_conventions_more_complete\n",
    "pygmentize tests/bases/naming_conventions_more_complete/subdir1/test_collected_tests.py"
   ]
  },
  {
   "cell_type": "code",
   "execution_count": null,
   "id": "1a497c15",
   "metadata": {
    "scrolled": false,
    "slideshow": {
     "slide_type": "skip"
    }
   },
   "outputs": [],
   "source": [
    "%%bash\n",
    "pytest --collect-only tests/bases/naming_conventions_more_complete"
   ]
  },
  {
   "cell_type": "markdown",
   "id": "7b9eb1af",
   "metadata": {
    "slideshow": {
     "slide_type": "notes"
    }
   },
   "source": [
    "### Note :\n",
    "Sans les `__init__.py` il semblerait que l'on puisse avoir quelque-chose qui ressemble à des erreurs d'import (collisions?).\n",
    "\n",
    "Comme [ici](https://stackoverflow.com/questions/53918088/import-file-mismatch-in-pytest).\n"
   ]
  },
  {
   "cell_type": "markdown",
   "id": "80952608",
   "metadata": {
    "slideshow": {
     "slide_type": "slide"
    }
   },
   "source": [
    "# Concepts"
   ]
  },
  {
   "cell_type": "markdown",
   "id": "6027d104",
   "metadata": {
    "slideshow": {
     "slide_type": "slide"
    }
   },
   "source": [
    "## Paramétrisation\n",
    "On veut parfois faire un même test pour plusieurs cas différents.\n",
    "Afin d'éviter la duplication, on peut simplement utiliser le même test avec plusieurs paramètres en entrée.\n",
    "\n",
    "Cela se déclare avec le décorateur [`pytest.mark.parametrize`](https://docs.pytest.org/en/6.2.x/parametrize.html#pytest-mark-parametrize-parametrizing-test-functions)."
   ]
  },
  {
   "cell_type": "markdown",
   "id": "85cf5b29",
   "metadata": {
    "slideshow": {
     "slide_type": "skip"
    }
   },
   "source": [
    "### Exemple :"
   ]
  },
  {
   "cell_type": "code",
   "execution_count": null,
   "id": "599021e0",
   "metadata": {
    "scrolled": false,
    "slideshow": {
     "slide_type": "skip"
    }
   },
   "outputs": [],
   "source": [
    "%%writefile tests/concepts/parametrization/simple_parametrization/test_simple_parametrization_example.py\n",
    "#!/usr/bin/env python3\n",
    "import pytest\n",
    "\n",
    "@pytest.mark.parametrize(\"mybool\", [False, True])\n",
    "def test_simple_parametrization_example(mybool):\n",
    "    print(\"\\nValue of mybool: %r\" % mybool)"
   ]
  },
  {
   "cell_type": "code",
   "execution_count": null,
   "id": "128d88ea",
   "metadata": {
    "scrolled": false,
    "slideshow": {
     "slide_type": "skip"
    }
   },
   "outputs": [],
   "source": [
    "%%script bash --no-raise-error\n",
    "pytest -s tests/concepts/parametrization/simple_parametrization/test_simple_parametrization_example.py"
   ]
  },
  {
   "cell_type": "markdown",
   "id": "b35c9d23",
   "metadata": {
    "slideshow": {
     "slide_type": "subslide"
    }
   },
   "source": [
    "### Exemples avec un cas simple :\n",
    "#### Sans paramétrisation"
   ]
  },
  {
   "cell_type": "code",
   "execution_count": null,
   "id": "37087033",
   "metadata": {
    "scrolled": false
   },
   "outputs": [],
   "source": [
    "%%writefile tests/concepts/parametrization/example_with_simple_case/without_parametrization.py\n",
    "#!/usr/bin/env python3\n",
    "\n",
    "def is_even(i):\n",
    "    return (i % 2) == 0\n",
    "\n",
    "def test_is_even_1():\n",
    "    assert not is_even(1)\n",
    "\n",
    "def test_is_even_2():\n",
    "    assert is_even(2)"
   ]
  },
  {
   "cell_type": "code",
   "execution_count": null,
   "id": "b4aebeca",
   "metadata": {
    "scrolled": false,
    "slideshow": {
     "slide_type": "fragment"
    }
   },
   "outputs": [],
   "source": [
    "%%script bash --no-raise-error\n",
    "pytest -v tests/concepts/parametrization/example_with_simple_case/without_parametrization.py"
   ]
  },
  {
   "cell_type": "markdown",
   "id": "67294ac7",
   "metadata": {
    "slideshow": {
     "slide_type": "subslide"
    }
   },
   "source": [
    "### Exemples avec un cas simple :\n",
    "#### Avec paramétrisation :"
   ]
  },
  {
   "cell_type": "code",
   "execution_count": null,
   "id": "a66cf617",
   "metadata": {
    "scrolled": false
   },
   "outputs": [],
   "source": [
    "%%writefile tests/concepts/parametrization/example_with_simple_case/with_parametrization.py\n",
    "#!/usr/bin/env python3\n",
    "import pytest\n",
    "\n",
    "def is_even(i):\n",
    "    return (i % 2) == 0\n",
    "\n",
    "@pytest.mark.parametrize(\"number,parity\", [(0, True), (1, False), (2, True)])\n",
    "def test_is_event(number, parity):\n",
    "    assert is_even(number) == parity"
   ]
  },
  {
   "cell_type": "code",
   "execution_count": null,
   "id": "d5f0b716",
   "metadata": {
    "scrolled": false,
    "slideshow": {
     "slide_type": "fragment"
    }
   },
   "outputs": [],
   "source": [
    "%%script bash --no-raise-error\n",
    "pytest -v tests/concepts/parametrization/example_with_simple_case/with_parametrization.py"
   ]
  },
  {
   "cell_type": "markdown",
   "id": "c9f9ef1f",
   "metadata": {
    "slideshow": {
     "slide_type": "subslide"
    }
   },
   "source": [
    "### Truc : Chaînage de décorateurs\n",
    "Parfois, la paramétrisation peut être lourde à rédiger si les fonctions à tester ont beaucoup d'entrées possibles.\n",
    "\n",
    "La combinatoire peut donner beaucoup de cas !\n",
    "\n",
    "Chaîner les décorateurs parametrize peut donc considérablement alléger leur écriture."
   ]
  },
  {
   "cell_type": "markdown",
   "id": "d2469056",
   "metadata": {
    "slideshow": {
     "slide_type": "subslide"
    }
   },
   "source": [
    "#### Exemples :\n",
    "##### Sans le chaînage :"
   ]
  },
  {
   "cell_type": "code",
   "execution_count": null,
   "id": "64e13c7b",
   "metadata": {
    "scrolled": false
   },
   "outputs": [],
   "source": [
    "%%writefile tests/concepts/parametrization/chaining_trick/without_chaining.py\n",
    "#!/usr/bin/env python3\n",
    "import pytest\n",
    "\n",
    "@pytest.mark.parametrize(\"bool1,bool2,bool3,bool4\", [\n",
    "    (False, False, False, False),\n",
    "    (False, False, False, True),\n",
    "    (False, False, True, False),\n",
    "    (False, False, True, True),\n",
    "    (False, True, False, False),\n",
    "    (False, True, False, True),\n",
    "    (False, True, True, False),\n",
    "    (False, True, True, True),\n",
    "    (True, False, False, False),\n",
    "    (True, False, False, True),\n",
    "    (True, False, True, False),\n",
    "    (True, False, True, True),\n",
    "    (True, True, False, False),\n",
    "    (True, True, False, True),\n",
    "    (True, True, True, False),\n",
    "    (True, True, True, True),\n",
    "])\n",
    "def test_complicated_function_with_many_inputs(bool1, bool2, bool3, bool4):\n",
    "    print(\"\\nbool1: %r - bool2: %r - bool3: %r - bool4: %r\" % (bool1, bool2, bool3, bool4))"
   ]
  },
  {
   "cell_type": "code",
   "execution_count": null,
   "id": "7af56c85",
   "metadata": {
    "scrolled": false,
    "slideshow": {
     "slide_type": "fragment"
    }
   },
   "outputs": [],
   "source": [
    "%%script bash --no-raise-error\n",
    "pytest -v tests/concepts/parametrization/chaining_trick/without_chaining.py"
   ]
  },
  {
   "cell_type": "markdown",
   "id": "c0662cb7",
   "metadata": {
    "slideshow": {
     "slide_type": "subslide"
    }
   },
   "source": [
    "#### Examples :\n",
    "##### Avec le chaînage :"
   ]
  },
  {
   "cell_type": "code",
   "execution_count": null,
   "id": "bf186a46",
   "metadata": {
    "scrolled": false
   },
   "outputs": [],
   "source": [
    "%%writefile tests/concepts/parametrization/chaining_trick/with_chaining.py\n",
    "#!/usr/bin/env python3\n",
    "import pytest\n",
    "\n",
    "@pytest.mark.parametrize(\"bool1\", (False, True))\n",
    "@pytest.mark.parametrize(\"bool2\", (False, True))\n",
    "@pytest.mark.parametrize(\"bool3\", (False, True))\n",
    "@pytest.mark.parametrize(\"bool4\", (False, True))\n",
    "def test_complicated_function_with_many_inputs(bool1, bool2, bool3, bool4):\n",
    "    print(\"\\nbool1: %r - bool2: %r - bool3: %r - bool4: %r\" % (bool1, bool2, bool3, bool4))"
   ]
  },
  {
   "cell_type": "code",
   "execution_count": null,
   "id": "ee36e6d5",
   "metadata": {
    "scrolled": false,
    "slideshow": {
     "slide_type": "fragment"
    }
   },
   "outputs": [],
   "source": [
    "%%script bash --no-raise-error\n",
    "pytest -v tests/concepts/parametrization/chaining_trick/with_chaining.py"
   ]
  },
  {
   "cell_type": "markdown",
   "id": "1c0f3d6c",
   "metadata": {
    "slideshow": {
     "slide_type": "slide"
    }
   },
   "source": [
    "## Fixtures\n",
    "\n",
    "L'une des fonctionalités clés de pytest est l'usage de fixtures. Les fixtures sont des fonctions décorées par [`@pytest.fixture`](https://docs.pytest.org/en/7.1.x/reference/reference.html#pytest-fixture-api). Elles permettent de préparer les tests, par exemple avec des sets de données."
   ]
  },
  {
   "cell_type": "markdown",
   "id": "92ff3ffc",
   "metadata": {
    "slideshow": {
     "slide_type": "subslide"
    }
   },
   "source": [
    "## Exemple et usage :"
   ]
  },
  {
   "cell_type": "code",
   "execution_count": null,
   "id": "7d928aff",
   "metadata": {
    "scrolled": false
   },
   "outputs": [],
   "source": [
    "%%writefile tests/concepts/fixtures/simple_example.py\n",
    "#!/usr/bin/env python3\n",
    "import pytest\n",
    "\n",
    "@pytest.fixture\n",
    "def myfixture():\n",
    "      return \"FOO\"\n",
    "\n",
    "def test_fixture(myfixture):\n",
    "    print(\"\\n%s\\n\" % myfixture)"
   ]
  },
  {
   "cell_type": "code",
   "execution_count": null,
   "id": "f3ed2742",
   "metadata": {
    "scrolled": false,
    "slideshow": {
     "slide_type": "fragment"
    }
   },
   "outputs": [],
   "source": [
    "%%script bash --no-raise-error\n",
    "pytest tests/concepts/fixtures/simple_example.py"
   ]
  },
  {
   "cell_type": "markdown",
   "id": "163ad1d2",
   "metadata": {
    "slideshow": {
     "slide_type": "subslide"
    }
   },
   "source": [
    "## Une fixture peut faire appel à une autre fixture :"
   ]
  },
  {
   "cell_type": "code",
   "execution_count": null,
   "id": "581a6687",
   "metadata": {
    "scrolled": false
   },
   "outputs": [],
   "source": [
    "%%writefile tests/concepts/fixtures/fixture_as_fixture_dependency.py\n",
    "#!/usr/bin/env python3\n",
    "import pytest\n",
    "\n",
    "@pytest.fixture\n",
    "def my_first_fixture():\n",
    "    return \"FOO\"\n",
    "\n",
    "@pytest.fixture\n",
    "def my_second_fixture(my_first_fixture):\n",
    "    return my_first_fixture * 2\n",
    "\n",
    "def test_fixture_as_fixture_dependency(my_second_fixture):\n",
    "    print(\"\\n%s\\n\" % my_second_fixture)"
   ]
  },
  {
   "cell_type": "code",
   "execution_count": null,
   "id": "a6adab36",
   "metadata": {
    "scrolled": false,
    "slideshow": {
     "slide_type": "fragment"
    }
   },
   "outputs": [],
   "source": [
    "%%script bash --no-raise-error\n",
    "pytest -s tests/concepts/fixtures/fixture_as_fixture_dependency.py"
   ]
  },
  {
   "cell_type": "markdown",
   "id": "8f2672b8",
   "metadata": {
    "slideshow": {
     "slide_type": "subslide"
    }
   },
   "source": [
    "## Paramétrisation de fixture :\n",
    "\n",
    "Il est possible, tout comme pour les tests eux-mêmes, de paramétriser des tests."
   ]
  },
  {
   "cell_type": "code",
   "execution_count": null,
   "id": "4689177e",
   "metadata": {
    "scrolled": false
   },
   "outputs": [],
   "source": [
    "%%writefile tests/concepts/fixtures/fixtures_parametrisation.py\n",
    "#!/usr/bin/env python3\n",
    "import pytest\n",
    "\n",
    "@pytest.fixture(params=[True, False])\n",
    "def parametrized_fixture(request):\n",
    "    return request.param\n",
    "\n",
    "def test_fixture_parametrization(parametrized_fixture):\n",
    "    print(\"\\n%r\\n\" % parametrized_fixture)"
   ]
  },
  {
   "cell_type": "code",
   "execution_count": null,
   "id": "09011bd4",
   "metadata": {
    "scrolled": false,
    "slideshow": {
     "slide_type": "fragment"
    }
   },
   "outputs": [],
   "source": [
    "%%script bash --no-raise-error\n",
    "pytest -s tests/concepts/fixtures/fixtures_parametrisation.py"
   ]
  },
  {
   "cell_type": "markdown",
   "id": "69b1ff2c",
   "metadata": {
    "scrolled": false,
    "slideshow": {
     "slide_type": "subslide"
    }
   },
   "source": [
    "## NOTE :\n",
    "Question : peut-être devrait-on mettre au sein de la suite de test qui représenteraient des set de valeurs différentes (Utilisateurs avec droits avancés, booléens, Enums...)"
   ]
  },
  {
   "cell_type": "markdown",
   "id": "d9812a4e",
   "metadata": {
    "slideshow": {
     "slide_type": "skip"
    }
   },
   "source": [
    "### Problème possible : vouloir utiliser une fixture plusieurs fois avec paramétrisation pour un même test\n",
    "\n",
    "Quid si on a deux fixtures différentes qui veulent faire appel à une troisième, mais sans que l'on souhaite avoir les mêmes valeurs (dupliquer une même fixture)\n",
    "\n",
    "Le problème rencontré est alors que la fixture \"racine\" n'est pas dupliquée (la même valeur est utilisée à chaque fois et on ne pourrait pas par exemple pour une valeur booléenne faire cohabiter un `False` et un `True`."
   ]
  },
  {
   "cell_type": "code",
   "execution_count": null,
   "id": "8bf83a6a",
   "metadata": {
    "scrolled": false,
    "slideshow": {
     "slide_type": "skip"
    }
   },
   "outputs": [],
   "source": [
    "%%writefile tests/concepts/fixtures/fixtures_parametrisation_test_duplicate_direct.py\n",
    "#!/usr/bin/env python3\n",
    "import pytest\n",
    "\n",
    "@pytest.fixture(params=[True, False])\n",
    "def boolean(request):\n",
    "    return request.param\n",
    "\n",
    "# This doesn't use fixture as fixtures but as local decorated functions.\n",
    "def test_duplicate_fixture(bool1=boolean, bool2=boolean):\n",
    "    print(\"%r - %r\\n\" % (bool1, bool2))"
   ]
  },
  {
   "cell_type": "code",
   "execution_count": null,
   "id": "a3ef7bc5",
   "metadata": {
    "scrolled": false,
    "slideshow": {
     "slide_type": "skip"
    }
   },
   "outputs": [],
   "source": [
    "%%script bash --no-raise-error\n",
    "pytest -s tests/concepts/fixtures/fixtures_parametrisation_test_duplicate_direct.py"
   ]
  },
  {
   "cell_type": "code",
   "execution_count": null,
   "id": "256ee073",
   "metadata": {
    "scrolled": false,
    "slideshow": {
     "slide_type": "skip"
    }
   },
   "outputs": [],
   "source": [
    "%%writefile tests/concepts/fixtures/fixtures_parametrisation_test_duplicate.py\n",
    "#!/usr/bin/env python3\n",
    "import pytest\n",
    "\n",
    "@pytest.fixture(params=[True, False])\n",
    "def boolean(request):\n",
    "    return request.param\n",
    "\n",
    "@pytest.fixture\n",
    "def bool1(boolean):\n",
    "    return boolean\n",
    "\n",
    "@pytest.fixture\n",
    "def bool2(boolean):\n",
    "    return boolean\n",
    "\n",
    "# With this, each fixture (bool1, bool2) depends on the same fixture boolean. Only two cases.\n",
    "def test_duplicate_fixture(bool1, bool2):\n",
    "    print(\"%r - %r\\n\" % (bool1, bool2))"
   ]
  },
  {
   "cell_type": "code",
   "execution_count": null,
   "id": "121d7bf8",
   "metadata": {
    "scrolled": false,
    "slideshow": {
     "slide_type": "skip"
    }
   },
   "outputs": [],
   "source": [
    "%%script bash --no-raise-error\n",
    "pytest --collect-only tests/concepts/fixtures/fixtures_parametrisation_test_duplicate.py"
   ]
  },
  {
   "cell_type": "markdown",
   "id": "6b70db69",
   "metadata": {
    "slideshow": {
     "slide_type": "skip"
    }
   },
   "source": [
    "## Workaround"
   ]
  },
  {
   "cell_type": "code",
   "execution_count": null,
   "id": "a16c1432",
   "metadata": {
    "scrolled": false,
    "slideshow": {
     "slide_type": "skip"
    }
   },
   "outputs": [],
   "source": [
    "%%writefile tests/concepts/fixtures/fixtures_parametrisation_test_workaround.py\n",
    "#!/usr/bin/env python3\n",
    "import pytest\n",
    "\n",
    "@pytest.fixture(params=[True, False])\n",
    "def boolean(request):\n",
    "    return request.param\n",
    "\n",
    "# You have to make a copy of the fixture with a new name.\n",
    "boolean_bis = boolean\n",
    "\n",
    "def test_duplicate_fixture(boolean, boolean_bis):\n",
    "    print(\"\\n%r - %r\\n\" % (boolean, boolean_bis))"
   ]
  },
  {
   "cell_type": "code",
   "execution_count": null,
   "id": "eba14796",
   "metadata": {
    "scrolled": false,
    "slideshow": {
     "slide_type": "skip"
    }
   },
   "outputs": [],
   "source": [
    "%%script bash --no-raise-error\n",
    "pytest -s tests/concepts/fixtures/fixtures_parametrisation_test_workaround.py"
   ]
  },
  {
   "cell_type": "markdown",
   "id": "531e5669",
   "metadata": {
    "slideshow": {
     "slide_type": "skip"
    }
   },
   "source": [
    "\n",
    "## Fixtures builtin : (request, monkeypatch, mocker) [facultatif]"
   ]
  },
  {
   "cell_type": "markdown",
   "id": "69bdafa6",
   "metadata": {
    "slideshow": {
     "slide_type": "subslide"
    }
   },
   "source": [
    "## Conftest :\n",
    "\n",
    "Les fichiers conftest.py sont simplement les fichiers de configuration des suites de test.\n",
    "\n",
    "Typiquement les fichiers dans lesquels seront stockées les fixtures.\n",
    "\n",
    "Les fixtures seront accessibles par tous les tests (Et fixtures) dans l'arborescence du dossier dans lequel le `contest.py` se trouve."
   ]
  },
  {
   "cell_type": "markdown",
   "id": "77ba8ee3",
   "metadata": {
    "slideshow": {
     "slide_type": "fragment"
    }
   },
   "source": [
    "### Exemple :"
   ]
  },
  {
   "cell_type": "code",
   "execution_count": null,
   "id": "b3b9a757",
   "metadata": {
    "scrolled": false
   },
   "outputs": [],
   "source": [
    "%%writefile tests/concepts/fixtures/conftest_example/conftest.py\n",
    "#!/usr/bin/env python3\n",
    "import pytest\n",
    "\n",
    "@pytest.fixture\n",
    "def myfixture():\n",
    "    return __file__"
   ]
  },
  {
   "cell_type": "code",
   "execution_count": null,
   "id": "8ce66146",
   "metadata": {
    "scrolled": false,
    "slideshow": {
     "slide_type": "fragment"
    }
   },
   "outputs": [],
   "source": [
    "%%writefile tests/concepts/fixtures/conftest_example/test_mytest.py\n",
    "#!/usr/bin/env python3\n",
    "\n",
    "def test_mytest(myfixture):\n",
    "    print(\"\\n%s\" % myfixture)"
   ]
  },
  {
   "cell_type": "code",
   "execution_count": null,
   "id": "c17d0e20",
   "metadata": {
    "scrolled": false
   },
   "outputs": [],
   "source": [
    "%%script bash --no-raise-error\n",
    "mkdir tests/concepts/fixtures/conftest_example\n",
    "mkdir tests/concepts/fixtures/conftest_example/subdir1\n",
    "mkdir tests/concepts/fixtures/conftest_example/subdir2\n",
    "touch tests/concepts/fixtures/conftest_example/{__init__.py,subdir1/__init__.py,subdir2/__init__.py}\n",
    "cp tests/concepts/fixtures/conftest_example/{conftest.py,subdir1/}\n",
    "cp tests/concepts/fixtures/conftest_example/{test_mytest.py,subdir1/}\n",
    "cp tests/concepts/fixtures/conftest_example/{test_mytest.py,subdir2/}\n",
    "set -x\n",
    "tree tests/concepts/fixtures/conftest_example\n",
    "pytest -s tests/concepts/fixtures/conftest_example"
   ]
  },
  {
   "cell_type": "markdown",
   "id": "40b3e7df",
   "metadata": {},
   "source": [
    "## Scope :\n",
    "La déclaration de fixture peut prendre en paramètre un paramètre `scope` inclus dans 5 valeurs :\n",
    "- `\"function\"` (valeur par défaut)\n",
    "- `\"class\"`\n",
    "- `\"module\"`\n",
    "- `\"package\"`\n",
    "- `\"session\"`\n",
    "\n",
    "Ce paramètre permet de réutiliser la même fixture au sein de plusieurs tests.\n",
    "\n",
    "Ainsi, une fixture avec le scope `\"session\"` sera invoquée une fois par session de test, une fois par package avec le scope `\"package\"`, etc.\n",
    "\n",
    "L'intérêt peut se trouver dans la recherche de meilleures performances. Avec des fixtures coûteuses en ressources dont l'invocation sera gérée plus finement, avec une mise en cache le reste du temps."
   ]
  },
  {
   "cell_type": "code",
   "execution_count": null,
   "id": "74809c3c",
   "metadata": {
    "scrolled": false
   },
   "outputs": [],
   "source": [
    "%%writefile tests/concepts/fixtures/scope/package1/conftest.py\n",
    "#!/usr/bin/env python3\n",
    "import pytest\n",
    "\n",
    "@pytest.fixture(scope=\"function\")\n",
    "def function_fixture():\n",
    "    print(\"Function fixture called.\")\n",
    "    \n",
    "@pytest.fixture(scope=\"class\")\n",
    "def class_fixture():\n",
    "    print(\"Class fixture called.\")\n",
    "\n",
    "@pytest.fixture(scope=\"module\")\n",
    "def module_fixture():\n",
    "    print(\"Module fixture called.\")\n",
    "\n",
    "@pytest.fixture(scope=\"package\")\n",
    "def package_fixture():\n",
    "    print(\"Package fixture called.\")"
   ]
  },
  {
   "cell_type": "code",
   "execution_count": null,
   "id": "3202046e",
   "metadata": {},
   "outputs": [],
   "source": [
    "%%writefile tests/concepts/fixtures/scope/conftest.py\n",
    "#!/usr/bin/env python3\n",
    "import pytest\n",
    "\n",
    "@pytest.fixture(scope=\"session\")\n",
    "def session_fixture():\n",
    "    print(\"Session fixture called.\")"
   ]
  },
  {
   "cell_type": "code",
   "execution_count": null,
   "id": "cca57a91",
   "metadata": {
    "scrolled": false
   },
   "outputs": [],
   "source": [
    "%%writefile tests/concepts/fixtures/scope/package1/test_scope.py\n",
    "#!/usr/bin/env python3\n",
    "\n",
    "class TestClass1:\n",
    "    def test_scope_1(self, function_fixture, class_fixture, module_fixture, package_fixture, session_fixture):\n",
    "        pass\n",
    "    \n",
    "    def test_scope_2(self, function_fixture, class_fixture, module_fixture, package_fixture, session_fixture):\n",
    "        pass\n",
    "\n",
    "class TestClass2:\n",
    "    def test_scope_1(self, function_fixture, class_fixture, module_fixture, package_fixture, session_fixture):\n",
    "        pass\n",
    "\n",
    "    def test_scope_2(self, function_fixture, class_fixture, module_fixture, package_fixture, session_fixture):\n",
    "        pass"
   ]
  },
  {
   "cell_type": "code",
   "execution_count": null,
   "id": "267754bc",
   "metadata": {
    "scrolled": false
   },
   "outputs": [],
   "source": [
    "%%script bash --no-raise-error\n",
    "mkdir tests/concepts/fixtures/scope/package2\n",
    "cp tests/concepts/fixtures/scope/{package1/test_scope.py,package2/test_scope.py}\n",
    "cp tests/concepts/fixtures/scope/{package1/conftest.py,package2/conftest.py}\n",
    "touch tests/concepts/fixtures/scope/{__init__.py,package1/__init__.py,package2/__init__.py}\n",
    "\n",
    "pytest -s tests/concepts/fixtures/scope"
   ]
  },
  {
   "cell_type": "markdown",
   "id": "fd61c502",
   "metadata": {
    "slideshow": {
     "slide_type": "slide"
    }
   },
   "source": [
    "## Mocking :"
   ]
  },
  {
   "cell_type": "markdown",
   "id": "8e7bfbaf",
   "metadata": {
    "slideshow": {
     "slide_type": "subslide"
    }
   },
   "source": [
    "### Principe :\n",
    "\n",
    "Le mocking, dans le monde des test est le remplacement d'un élément par un autre avec des fonctionnalités utiles aux tests.\n",
    "\n",
    "C'est une pratique qui peut représenter plusieurs intérêts, parmi lesquelles :\n",
    "- Gain de performances pour l'exécution des tests.\n",
    "- Separation of concerns.\n",
    "- Introspection sur le comportement du code à des fins de test."
   ]
  },
  {
   "cell_type": "markdown",
   "id": "cbf3f1b4",
   "metadata": {
    "slideshow": {
     "slide_type": "notes"
    }
   },
   "source": [
    "## Gain de performances pour l'exécution des tests :\n",
    "    Si une fonctionnalité à tester repose sur une méthode impliquant un calcul lourd et long, on pourra gagner du temps en mockant un objet renvoyant instantannément la valeur.\n",
    "\n",
    "## Separation of concerns :\n",
    "    On va sans doute vouloir aussi isoler au maximum le comportement de la feature testée. Si je veux tester une fonctionnalité A qui dépend de fonctionnalités B et C, le rôle de mon test sera de tester la fonctionnalité A sans que le résultat ne dépende des fonctionnalités B et C (On peut supposer que celles-ci sont cassées, pas encore codées...).\n",
    "\n",
    "## Introspection sur le comportement du code à des fins de test :\n",
    "    Cela peut être utile de s'assurer qu'une fonction a bien été appelée, avec tels paramètres..."
   ]
  },
  {
   "cell_type": "markdown",
   "id": "ce2ee3e6",
   "metadata": {
    "slideshow": {
     "slide_type": "subslide"
    }
   },
   "source": [
    "### `pytest-mock`/`unittest.mock` :\n",
    "\n",
    "`pytest-mock` est un paquet mettant à disposition de pytest un wrapper de la librairie `unittest.mock` de la librairie standard.\n",
    "\n",
    "Ce wrapper est accessible par la fixture `mocker` (qui la même api que `unittest.mock.patch`)."
   ]
  },
  {
   "cell_type": "markdown",
   "id": "9580e7dd",
   "metadata": {
    "slideshow": {
     "slide_type": "subslide"
    }
   },
   "source": [
    "#### Mocker une simple constante avec `mocker.path.object` :\n",
    "\n",
    "Voici un exemple simple pour commencer, on peut se contenter de mocker quelque-chose d'aussi simple qu'une constante."
   ]
  },
  {
   "cell_type": "code",
   "execution_count": null,
   "id": "b91c1bef",
   "metadata": {
    "slideshow": {
     "slide_type": "fragment"
    }
   },
   "outputs": [],
   "source": [
    "%%writefile tests/concepts/mocking/pytest-mock/simple_constant_mock/check_pwd_length.py\n",
    "#!/usr/bin/env python3\n",
    "PERMIT_SHORT_PASSWORDS = False\n",
    "\n",
    "def check_pwd_length(pwd):\n",
    "    print(f\"{PERMIT_SHORT_PASSWORDS!r}\")\n",
    "    if PERMIT_SHORT_PASSWORDS:\n",
    "        assert len(pwd) >= 8\n",
    "    else:\n",
    "        assert len(pwd) >= 16"
   ]
  },
  {
   "cell_type": "markdown",
   "id": "ccd2de6b",
   "metadata": {
    "slideshow": {
     "slide_type": "fragment"
    }
   },
   "source": [
    "[`mocker.patch.object`](https://docs.python.org/3.10/library/unittest.mock.html#patch-object) est ici utilisé avec 3 paramètres :\n",
    "- L'objet à patcher.\n",
    "- Le nom de l'attribut à patcher.\n",
    "- L'objet avec lequel remplacer l'attribut."
   ]
  },
  {
   "cell_type": "code",
   "execution_count": null,
   "id": "d9dc66c0",
   "metadata": {
    "slideshow": {
     "slide_type": "fragment"
    }
   },
   "outputs": [],
   "source": [
    "%%writefile tests/concepts/mocking/pytest-mock/simple_constant_mock/test_simple_constant_mock.py\n",
    "import check_pwd_length\n",
    "\n",
    "def test_check_pwd_length_for_short_passwords(mocker):\n",
    "    mocker.patch.object(check_pwd_length, \"PERMIT_SHORT_PASSWORDS\", True)\n",
    "    check_pwd_length.check_pwd_length(\"petitpatapon\")"
   ]
  },
  {
   "cell_type": "code",
   "execution_count": null,
   "id": "bad2a3d3",
   "metadata": {
    "slideshow": {
     "slide_type": "fragment"
    }
   },
   "outputs": [],
   "source": [
    "%%script bash --no-raise-error\n",
    "pytest -s tests/concepts/mocking/pytest-mock/simple_constant_mock/test_simple_constant_mock.py"
   ]
  },
  {
   "cell_type": "markdown",
   "id": "2405d7cd",
   "metadata": {
    "slideshow": {
     "slide_type": "subslide"
    }
   },
   "source": [
    "#### Note: On peut aussi utiliser `mocker.patch.object` avec deux arguments :\n",
    "\n",
    "On peut omettre l'objet avec lequel patcher la cible. Un mock en sera alors fait."
   ]
  },
  {
   "cell_type": "code",
   "execution_count": null,
   "id": "efabdc16",
   "metadata": {
    "slideshow": {
     "slide_type": "fragment"
    }
   },
   "outputs": [],
   "source": [
    "%%writefile tests/concepts/mocking/pytest-mock/mocker_patch_object_two_params/check_pwd_length.py\n",
    "#!/usr/bin/env python3\n",
    "PERMIT_SHORT_PASSWORDS = False\n",
    "\n",
    "\n",
    "def check_pwd_length(pwd):\n",
    "    print(f\"{PERMIT_SHORT_PASSWORDS!r}\")\n",
    "    if PERMIT_SHORT_PASSWORDS:\n",
    "        assert len(pwd) >= 8\n",
    "    else:\n",
    "        assert len(pwd) >= 16"
   ]
  },
  {
   "cell_type": "code",
   "execution_count": null,
   "id": "ddcc9ef8",
   "metadata": {},
   "outputs": [],
   "source": [
    "%%writefile tests/concepts/mocking/pytest-mock/mocker_patch_object_two_params/test_simple_constant_mock.py\n",
    "import check_pwd_length\n",
    "\n",
    "def test_check_pwd_length_for_short_passwords(mocker):\n",
    "    mock = mocker.patch.object(check_pwd_length, \"PERMIT_SHORT_PASSWORDS\")\n",
    "    check_pwd_length.check_pwd_length(\"petitpataponpluslong\")\n",
    "    mock.assert_not_called()\n"
   ]
  },
  {
   "cell_type": "code",
   "execution_count": null,
   "id": "be9c5dab",
   "metadata": {
    "slideshow": {
     "slide_type": "fragment"
    }
   },
   "outputs": [],
   "source": [
    "%%script bash --no-raise-error\n",
    "pytest -s tests/concepts/mocking/pytest-mock/mocker_patch_object_two_params/test_simple_constant_mock.py"
   ]
  },
  {
   "cell_type": "code",
   "execution_count": null,
   "id": "7594f41e",
   "metadata": {
    "slideshow": {
     "slide_type": "skip"
    }
   },
   "outputs": [],
   "source": [
    "#!/usr/bin/env python3\n",
    "\"\"\"\n",
    "Attempt to merge both file from previous snippet.\n",
    "But requires self-referencing the current module as target.\n",
    "PEP 3130 would've allowed that but was rejected.\n",
    "https://peps.python.org/pep-3130/\n",
    "\"\"\"\n",
    "PERMIT_SHORT_PASSWORDS = False\n",
    "\n",
    "def check_pwd_length(pwd):\n",
    "    if PERMIT_SHORT_PASSWORDS:\n",
    "        assert len(pwd) >= 8\n",
    "    else:\n",
    "        assert len(pwd) >= 16\n",
    "\n",
    "def test_check_pwd_length_for_short_passwords(mocker):\n",
    "    with mocker.patch.object(__module__, \"PERMIT_SHORT_PASSWORDS\", True):\n",
    "        check_pwd_length(\"petitpatapon\")"
   ]
  },
  {
   "cell_type": "markdown",
   "id": "58d8b7d8",
   "metadata": {
    "slideshow": {
     "slide_type": "notes"
    }
   },
   "source": [
    "Un peu limité avec une constante. :)\n",
    "\n",
    "Les methodes des objets `Mock` liées à l'examen de l'utilisation des fonctions n'a pas vraiment de sens ici.\n",
    "Mais il existe des classes de mock dédiées aux non-callables."
   ]
  },
  {
   "cell_type": "markdown",
   "id": "2cde43a2",
   "metadata": {
    "slideshow": {
     "slide_type": "subslide"
    }
   },
   "source": [
    "### Mocker une fonction avec `mocker.patch` :"
   ]
  },
  {
   "cell_type": "code",
   "execution_count": null,
   "id": "f1666015",
   "metadata": {},
   "outputs": [],
   "source": [
    "%%writefile tests/concepts/mocking/pytest-mock/patching_a_function/answer.py\n",
    "#!/usr/bin/env python3\n",
    "from time import sleep\n",
    "\n",
    "def very_long_and_faulty_calculus():\n",
    "    sleep(5)\n",
    "    raise Exception(\"Oops\")\n",
    "    return 42\n",
    "\n",
    "def get_answer_to_everything():\n",
    "    return very_long_and_faulty_calculus()"
   ]
  },
  {
   "cell_type": "code",
   "execution_count": null,
   "id": "d58c2d1c",
   "metadata": {},
   "outputs": [],
   "source": [
    "%%writefile tests/concepts/mocking/pytest-mock/patching_a_function/test_answer.py\n",
    "#!/usr/bin/env python3\n",
    "from answer import get_answer_to_everything\n",
    "\n",
    "def test_get_answer_to_everything_the_long_way():\n",
    "    assert get_answer_to_everything() == 42\n",
    "    \n",
    "def test_get_answer_to_everything(mocker):\n",
    "    mock = mocker.patch(\"answer.very_long_and_faulty_calculus\", return_value=42)\n",
    "    assert get_answer_to_everything() == 42\n",
    "    mock.assert_called()\n"
   ]
  },
  {
   "cell_type": "code",
   "execution_count": null,
   "id": "271afe69",
   "metadata": {
    "scrolled": false
   },
   "outputs": [],
   "source": [
    "%%script bash --no-raise-error\n",
    "pytest -sv tests/concepts/mocking/pytest-mock/patching_a_function/test_answer.py"
   ]
  },
  {
   "cell_type": "markdown",
   "id": "d505e5b7",
   "metadata": {
    "slideshow": {
     "slide_type": "subslide"
    }
   },
   "source": [
    "### Utilisations en tant que décorateurs :\n",
    "\n"
   ]
  },
  {
   "cell_type": "code",
   "execution_count": null,
   "id": "85b23a5f",
   "metadata": {},
   "outputs": [],
   "source": [
    "%%writefile tests/concepts/mocking/pytest-mock/use_as_decorators/answer.py\n",
    "#!/usr/bin/env python3\n",
    "from time import sleep\n",
    "\n",
    "def calculus():\n",
    "    return 21\n",
    "\n",
    "def get_answer_to_everything():\n",
    "    return calculus()"
   ]
  },
  {
   "cell_type": "code",
   "execution_count": null,
   "id": "fcc71ebd",
   "metadata": {},
   "outputs": [],
   "source": [
    "%%writefile tests/concepts/mocking/pytest-mock/use_as_decorators/test_answers.py\n",
    "#!/usr/bin/env python3\n",
    "from answer import get_answer_to_everything\n",
    "from unittest.mock import patch\n",
    "import answer\n",
    "\n",
    "@patch(\"answer.calculus\", lambda: 42)\n",
    "def test_in_function():\n",
    "    assert get_answer_to_everything() == 42\n",
    "\n",
    "@patch.object(answer, \"calculus\", return_value=42)\n",
    "def test_in_function_bis(mock_method):\n",
    "    assert get_answer_to_everything() == 42\n",
    "    mock_method.assert_called_once()\n",
    "    \n",
    "@patch(\"answer.calculus\", lambda: 42)\n",
    "class TestInClass:\n",
    "    def test_answer(self):\n",
    "        assert get_answer_to_everything() == 42\n",
    "\n",
    "@patch.object(answer, \"calculus\", return_value=42)\n",
    "class TestInClassBis:\n",
    "    def test_answer(self, mock_method):\n",
    "        assert get_answer_to_everything() == 42\n",
    "        mock_method.assert_called_once()"
   ]
  },
  {
   "cell_type": "code",
   "execution_count": null,
   "id": "faacb5d0",
   "metadata": {
    "scrolled": false
   },
   "outputs": [],
   "source": [
    "%%script bash --no-raise-error\n",
    "pytest -s tests/concepts/mocking/pytest-mock/use_as_decorators/test_answers.py"
   ]
  },
  {
   "cell_type": "markdown",
   "id": "e80df0e6",
   "metadata": {},
   "source": [
    "### Les méthodes des objets Mock :\n",
    "\n",
    "Lors des tests, les objets de type `Mock` créés par les patchers mettent à disposition un snemble de méthodes afin de faire les tests.\n",
    "\n",
    "Les noms sont assez explicites."
   ]
  },
  {
   "cell_type": "code",
   "execution_count": null,
   "id": "5813f0ff",
   "metadata": {},
   "outputs": [],
   "source": [
    "%%writefile tests/concepts/mocking/pytest-mock/patching_a_function/test_answer.py\n",
    "#!/usr/bin/env python3\n",
    "from answer import get_answer_to_everything\n",
    "\n",
    "\n",
    "def test_get_answer_to_everything(mocker):\n",
    "    mock = mocker.patch(\"answer.very_long_and_faulty_calculus\", return_value=42)\n",
    "    mock.assert_not_called()\n",
    "    assert get_answer_to_everything() == 42\n",
    "    mock.assert_called_once()\n",
    "    mock.return_value = 43\n",
    "    assert get_answer_to_everything() == 43\n",
    "    mock.assert_called()\n",
    "    assert mock.return_value == 43\n",
    "    assert mock.call_count == 2\n"
   ]
  },
  {
   "cell_type": "code",
   "execution_count": null,
   "id": "a53ee077",
   "metadata": {},
   "outputs": [],
   "source": [
    "%%script bash --no-raise-error\n",
    "pytest -sv tests/concepts/mocking/pytest-mock/patching_a_function/test_answer.py"
   ]
  },
  {
   "cell_type": "markdown",
   "id": "f9f22480",
   "metadata": {
    "slideshow": {
     "slide_type": "subslide"
    }
   },
   "source": [
    "### Monkeypatch\n",
    "\n",
    "[`monkeypatch`](https://docs.pytest.org/en/6.2.x/monkeypatch.html) est une fonctionnalité par défaut de pytest mise à disposition par la fixture built-in du même nom. Elle permet via un certain nombre de méthodes de gérer également les patchs dans les tests."
   ]
  },
  {
   "cell_type": "code",
   "execution_count": null,
   "id": "92e85041",
   "metadata": {},
   "outputs": [],
   "source": [
    "%%writefile tests/concepts/mocking/monkeypatch/simple_constant_mock/check_pwd_length.py\n",
    "#!/usr/bin/env python3\n",
    "PERMIT_SHORT_PASSWORDS = False\n",
    "\n",
    "def check_pwd_length(pwd):\n",
    "    print(f\"{PERMIT_SHORT_PASSWORDS!r}\")\n",
    "    if PERMIT_SHORT_PASSWORDS:\n",
    "        assert len(pwd) >= 8\n",
    "    else:\n",
    "        assert len(pwd) >= 16"
   ]
  },
  {
   "cell_type": "code",
   "execution_count": null,
   "id": "fc41c480",
   "metadata": {},
   "outputs": [],
   "source": [
    "%%writefile tests/concepts/mocking/monkeypatch/simple_constant_mock/test_simple_constant_mock.py\n",
    "#!/usr/bin/env python3\n",
    "import check_pwd_length\n",
    "\n",
    "def test_check_pwd_length_for_short_passwords(monkeypatch):\n",
    "    monkeypatch.setattr(\"check_pwd_length.PERMIT_SHORT_PASSWORDS\", True)\n",
    "    check_pwd_length.check_pwd_length(\"petitpatapon\")"
   ]
  },
  {
   "cell_type": "code",
   "execution_count": null,
   "id": "7d2bafe0",
   "metadata": {},
   "outputs": [],
   "source": [
    "%%script bash --no-raise-error\n",
    "pytest tests/concepts/mocking/monkeypatch/simple_constant_mock/test_simple_constant_mock.py"
   ]
  },
  {
   "cell_type": "markdown",
   "id": "7bf5bb77",
   "metadata": {},
   "source": [
    "## Classes de test\n",
    "\n",
    "Les classes de test sont une manière alternative d'organiser les tests.\n",
    "Les tests sont alors les méthodes de cette classe préfixées par `test`. Comme dit en début de Dojo, ces classes ne doivent pas contenir de méthode `__init__()` et doivent avoir leur nom préfixé par `Test`."
   ]
  },
  {
   "cell_type": "markdown",
   "id": "1ee756ce",
   "metadata": {},
   "source": [
    "## Exemple simple :"
   ]
  },
  {
   "cell_type": "code",
   "execution_count": null,
   "id": "483d5576",
   "metadata": {
    "scrolled": false
   },
   "outputs": [],
   "source": [
    "%%writefile tests/concepts/test_classes/simple_example.py\n",
    "#!/usr/bin/env python3\n",
    "\n",
    "class TestClass:\n",
    "    def test_method(self):\n",
    "        pass"
   ]
  },
  {
   "cell_type": "code",
   "execution_count": null,
   "id": "3d9cb80e",
   "metadata": {
    "scrolled": false
   },
   "outputs": [],
   "source": [
    "%%script bash --no-raise-error\n",
    "pytest tests/concepts/test_classes/simple_example.py"
   ]
  },
  {
   "cell_type": "markdown",
   "id": "f8ffc09d",
   "metadata": {},
   "source": [
    "## Paramétrisation de classes de test"
   ]
  },
  {
   "cell_type": "code",
   "execution_count": null,
   "id": "b41658f6",
   "metadata": {
    "scrolled": false
   },
   "outputs": [],
   "source": [
    "%%writefile tests/concepts/test_classes/parametrization.py\n",
    "#!/usr/bin/env python3\n",
    "import pytest\n",
    "\n",
    "@pytest.mark.parametrize(\"mybool,mystr\", [(True, \"foo\"), (False, \"bar\")])\n",
    "class TestClass:\n",
    "    def test_mytest(self, mybool, mystr):\n",
    "        print(\"\\n%r, %r\" % (mybool, mystr))"
   ]
  },
  {
   "cell_type": "code",
   "execution_count": null,
   "id": "ffe77170",
   "metadata": {
    "scrolled": false
   },
   "outputs": [],
   "source": [
    "%%script bash --no-raise-error\n",
    "pytest tests/concepts/test_classes/parametrization.py"
   ]
  },
  {
   "cell_type": "markdown",
   "id": "47e105dc",
   "metadata": {},
   "source": [
    "## Fixtures dans les classes de test\n",
    "\n",
    "On peut aussi définir une fixture dans le scope d'une classe de test."
   ]
  },
  {
   "cell_type": "code",
   "execution_count": null,
   "id": "09bd6571",
   "metadata": {
    "scrolled": false
   },
   "outputs": [],
   "source": [
    "%%writefile tests/concepts/test_classes/test_fixture.py\n",
    "#!/usr/bin/env python3\n",
    "import pytest\n",
    "\n",
    "class TestClass:\n",
    "    @pytest.fixture\n",
    "    def myfixt(self):\n",
    "        return 1\n",
    "    \n",
    "    def test_foo(self, myfixt):\n",
    "        assert myfixt == 1"
   ]
  },
  {
   "cell_type": "code",
   "execution_count": null,
   "id": "eb36653c",
   "metadata": {
    "scrolled": false
   },
   "outputs": [],
   "source": [
    "%%script bash --no-raise-error\n",
    "pytest -v tests/concepts/test_classes/test_fixture.py"
   ]
  },
  {
   "cell_type": "markdown",
   "id": "eb07bb8c",
   "metadata": {},
   "source": [
    "## Intérêt des classes de test\n",
    "\n",
    "Un intérêt majeur des classes de test se trouve dans l'utilisation de l'héritage."
   ]
  },
  {
   "cell_type": "code",
   "execution_count": null,
   "id": "50f7d8bf",
   "metadata": {
    "scrolled": false
   },
   "outputs": [],
   "source": [
    "%%writefile tests/concepts/test_classes/pros/test_example.py\n",
    "#!/usr/bin/env python3\n",
    "import pytest\n",
    "\n",
    "class Bird:\n",
    "    can_fly = True\n",
    "    scream = \"Chirp!\"\n",
    "    \n",
    "    def get_scream(self):\n",
    "        return self.scream\n",
    "\n",
    "\n",
    "class Duck(Bird):\n",
    "    scream = \"Quack!\"\n",
    "\n",
    "\n",
    "class Swallow(Bird):\n",
    "    pass\n",
    "\n",
    "\n",
    "class Penguin(Bird):\n",
    "    pass\n",
    "\n",
    "\n",
    "class TestBird:\n",
    "    bird_class = Bird\n",
    "    bird_scream = \"Chirp!\"\n",
    "    bird_flight_ability = True\n",
    "    \n",
    "    @pytest.fixture(scope=\"class\")\n",
    "    def thats_a_bird(self):\n",
    "        return self.bird_class()\n",
    "\n",
    "    def test_scream(self, thats_a_bird):\n",
    "        scream = thats_a_bird.get_scream()\n",
    "        expected_scream = self.bird_scream\n",
    "        assert scream == expected_scream, \"Scream for bird of type %r should be %r and not %r\" % (thats_a_bird.__class__, expected_scream, scream)\n",
    "\n",
    "    def test_flight_ability(self):\n",
    "        flight_ability = self.bird_class.can_fly\n",
    "        expected_flight_ability = self.bird_flight_ability\n",
    "        assert flight_ability == expected_flight_ability\n",
    "\n",
    "\n",
    "class TestDuck(TestBird):\n",
    "    bird_class = Duck\n",
    "    bird_scream = \"Quack!\"\n",
    "\n",
    "\n",
    "class TestSwallow(TestBird):\n",
    "    bird_class = Swallow\n",
    "\n",
    "\n",
    "class TestPenguin(TestBird):\n",
    "    bird_class = Penguin\n",
    "    bird_flight_ability = False\n",
    "    bird_scream = \"Je ne suis pas un pingouin.\" "
   ]
  },
  {
   "cell_type": "code",
   "execution_count": null,
   "id": "2031fba9",
   "metadata": {
    "scrolled": false
   },
   "outputs": [],
   "source": [
    "%%script bash --no-raise-error\n",
    "pytest -v tests/concepts/test_classes/pros/test_example.py"
   ]
  },
  {
   "cell_type": "markdown",
   "id": "461b6c4c",
   "metadata": {},
   "source": [
    "## Trucs :\n"
   ]
  },
  {
   "cell_type": "markdown",
   "id": "8b48eea2",
   "metadata": {
    "slideshow": {
     "slide_type": "subslide"
    }
   },
   "source": [
    "### Capture de l'outut avec le paramètre `-s`:"
   ]
  },
  {
   "cell_type": "code",
   "execution_count": null,
   "id": "fe8ca01d",
   "metadata": {},
   "outputs": [],
   "source": [
    "%%writefile tests/trucs/capture_of_output/test_foo.py\n",
    "def test_foo():\n",
    "     print(\"FOO\")"
   ]
  },
  {
   "cell_type": "code",
   "execution_count": null,
   "id": "cb981e74",
   "metadata": {},
   "outputs": [],
   "source": [
    "%%script bash --no-raise-error\n",
    "pytest -s tests/trucs/capture_of_output/test_foo.py"
   ]
  },
  {
   "cell_type": "markdown",
   "id": "f1bc9bae",
   "metadata": {
    "slideshow": {
     "slide_type": "subslide"
    }
   },
   "source": [
    "### Se concentrer sur les fails avec `--last-failed` et `--failed-first`:\n",
    "\n",
    "Ces paramètres permettent respectivement de ne lancer que les tests ayant échoué et de les lancer avant ceux qui ont réussi."
   ]
  },
  {
   "cell_type": "code",
   "execution_count": null,
   "id": "392d422d",
   "metadata": {},
   "outputs": [],
   "source": [
    "%%writefile tests/trucs/failed_tests/test_failed.py\n",
    "\n",
    "def test_success():\n",
    "    pass\n",
    "\n",
    "def test_failed():\n",
    "    assert False"
   ]
  },
  {
   "cell_type": "code",
   "execution_count": null,
   "id": "87fdcf31",
   "metadata": {},
   "outputs": [],
   "source": [
    "%%script bash --no-raise-error\n",
    "pytest -v tests/trucs/failed_tests/test_failed.py"
   ]
  },
  {
   "cell_type": "code",
   "execution_count": null,
   "id": "d4dc869d",
   "metadata": {},
   "outputs": [],
   "source": [
    "%%script bash --no-raise-error\n",
    "pytest -v --last-failed tests/trucs/failed_tests/test_failed.py"
   ]
  },
  {
   "cell_type": "code",
   "execution_count": null,
   "id": "743e5164",
   "metadata": {},
   "outputs": [],
   "source": [
    "%%script bash --no-raise-error\n",
    "pytest -v --failed-first tests/trucs/failed_tests/test_failed.py"
   ]
  },
  {
   "cell_type": "markdown",
   "id": "bc562df5",
   "metadata": {},
   "source": [
    "### Continuer l'exécution des tests malgré les fails :\n",
    "\n",
    "Si je veux lancer tous les tests d'une suite de tests de 3500+ tests, et que je me doute que certains vont échouer, je peux tout-de-même faire tourner l'ensemble des tests avec `--maxfail=4000`."
   ]
  },
  {
   "cell_type": "code",
   "execution_count": null,
   "id": "ec7754a9",
   "metadata": {},
   "outputs": [],
   "source": [
    "%%writefile tests/trucs/maxfail/test_maxfail.py\n",
    "#!/usr/bin/env python3\n",
    "\n",
    "def test_fail_1():\n",
    "    assert False\n",
    "\n",
    "def test_success_1():\n",
    "    pass\n",
    "\n",
    "def test_fail_2():\n",
    "    assert False\n",
    "\n",
    "def test_success_2():\n",
    "    pass\n",
    "\n",
    "def test_fail_3():\n",
    "    assert False"
   ]
  },
  {
   "cell_type": "code",
   "execution_count": null,
   "id": "4323c245",
   "metadata": {},
   "outputs": [],
   "source": [
    "%%script bash --no-raise-error\n",
    "pytest --maxfail=2 tests/trucs/maxfail/test_maxfail.py"
   ]
  },
  {
   "cell_type": "markdown",
   "id": "457c4c10",
   "metadata": {},
   "source": [
    "### Se concentrer sur les tests frais avec `--new-first`:"
   ]
  },
  {
   "cell_type": "code",
   "execution_count": null,
   "id": "57f8a475",
   "metadata": {},
   "outputs": [],
   "source": [
    "%%writefile tests/trucs/newfirst/test_newfirst.py\n",
    "#!/usr/bin/env python3\n",
    "\n",
    "def test_1():\n",
    "    pass\n",
    "\n",
    "def test_2():\n",
    "    pass\n",
    "\n",
    "def test_3():\n",
    "    pass\n",
    "\n",
    "# def test_4():\n",
    "#     pass"
   ]
  },
  {
   "cell_type": "code",
   "execution_count": null,
   "id": "d3a6c423",
   "metadata": {},
   "outputs": [],
   "source": [
    "%%script bash --no-raise-error\n",
    "pytest -v --new-first tests/trucs/newfirst/test_newfirst.py"
   ]
  },
  {
   "cell_type": "markdown",
   "id": "546721ac",
   "metadata": {},
   "source": [
    "### Le cache de pytest :\n",
    "Les derniers résultats sont stockés dans le cache de pytest. Pytest met à disposition deux outils pour l'inspecter et le vider.\n",
    "\n",
    "On peut ainsi l'inspecter avec `--cache-show` :"
   ]
  },
  {
   "cell_type": "code",
   "execution_count": null,
   "id": "b668cb63",
   "metadata": {
    "slideshow": {
     "slide_type": "subslide"
    }
   },
   "outputs": [],
   "source": [
    "%%script bash --no-raise-error\n",
    "cd tests/trucs/cache\n",
    "pytest --tb=no\n",
    "pytest --cache-show\n",
    "cd ~/dojo-pytest/"
   ]
  },
  {
   "cell_type": "markdown",
   "id": "fdcbb394",
   "metadata": {},
   "source": [
    "Et on peut le vider avec `--cache-clear` :"
   ]
  },
  {
   "cell_type": "code",
   "execution_count": null,
   "id": "6940a2c9",
   "metadata": {},
   "outputs": [],
   "source": [
    "%%script bash --no-raise-error\n",
    "cd tests/trucs/cache\n",
    "# --cache-clear re-runs the tests without --collect-only :)\n",
    "pytest --cache-clear --collect-only\n",
    "pytest --cache-show\n",
    "cd ~/dojo-pytest/"
   ]
  }
 ],
 "metadata": {
  "celltoolbar": "Slideshow",
  "kernelspec": {
   "display_name": "Python 3 (ipykernel)",
   "language": "python",
   "name": "python3"
  },
  "language_info": {
   "codemirror_mode": {
    "name": "ipython",
    "version": 3
   },
   "file_extension": ".py",
   "mimetype": "text/x-python",
   "name": "python",
   "nbconvert_exporter": "python",
   "pygments_lexer": "ipython3",
   "version": "3.10.12"
  }
 },
 "nbformat": 4,
 "nbformat_minor": 5
}
